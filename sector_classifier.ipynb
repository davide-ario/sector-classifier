{
  "nbformat": 4,
  "nbformat_minor": 0,
  "metadata": {
    "colab": {
      "name": "sector_classifier.ipynb",
      "provenance": [],
      "collapsed_sections": [],
      "authorship_tag": "ABX9TyO3/jRzbnBT30kJ07Z0s9zI",
      "include_colab_link": true
    },
    "kernelspec": {
      "name": "python3",
      "display_name": "Python 3"
    },
    "language_info": {
      "name": "python"
    },
    "accelerator": "GPU"
  },
  "cells": [
    {
      "cell_type": "markdown",
      "metadata": {
        "id": "view-in-github",
        "colab_type": "text"
      },
      "source": [
        "<a href=\"https://colab.research.google.com/github/davario/sector_classifier/blob/main/sector_classifier.ipynb\" target=\"_parent\"><img src=\"https://colab.research.google.com/assets/colab-badge.svg\" alt=\"Open In Colab\"/></a>"
      ]
    },
    {
      "cell_type": "code",
      "metadata": {
        "id": "5_ebYp9d03XC"
      },
      "source": [
        "# This Python 3 environment comes with many helpful analytics libraries installed\n",
        "# It is defined by the kaggle/python docker image: https://github.com/kaggle/docker-python\n",
        "\n",
        "import tensorflow as tf\n",
        "\n",
        "import numpy as np # linear algebra\n",
        "import pandas as pd # data processing, CSV file I/O (e.g. pd.read_csv)\n",
        "\n",
        "import matplotlib.pyplot as plt\n",
        "import matplotlib.style as style\n",
        "import seaborn as sns\n",
        "import sklearn.model_selection as sk\n",
        "\n",
        "import plotly.express as px\n",
        "\n",
        "import re"
      ],
      "execution_count": 19,
      "outputs": []
    },
    {
      "cell_type": "code",
      "metadata": {
        "colab": {
          "base_uri": "https://localhost:8080/"
        },
        "id": "U3Sg4d6u0_V_",
        "outputId": "aee833b8-294b-45d1-c30b-363eb7e4ae70"
      },
      "source": [
        "# Input data files are available in the \"../input/\" directory.\n",
        "import os\n",
        "print(\"Input files:\")\n",
        "for dirname, _, filenames in os.walk('/kaggle/input'):\n",
        "    for filename in filenames:\n",
        "        print(os.path.join(dirname, filename))"
      ],
      "execution_count": 20,
      "outputs": [
        {
          "output_type": "stream",
          "text": [
            "Input files:\n"
          ],
          "name": "stdout"
        }
      ]
    },
    {
      "cell_type": "code",
      "metadata": {
        "colab": {
          "base_uri": "https://localhost:8080/"
        },
        "id": "lv4TdpXx1AyG",
        "outputId": "df126cac-6ceb-45eb-fec9-2acfff009d4a"
      },
      "source": [
        "# Any results you write to the current directory are saved as output.\n",
        "\n",
        "# For neural nets with my GPU, RNN doesn't work without this in TF 2.0\n",
        "from tensorflow.compat.v1 import ConfigProto\n",
        "from tensorflow.compat.v1 import InteractiveSession\n",
        "config = ConfigProto()\n",
        "config.gpu_options.allow_growth = True\n",
        "session = InteractiveSession(config=config)\n",
        "\n",
        "print()\n",
        "print(\"TF Version: \", tf.__version__)\n",
        "print(\"Eager mode: \", tf.executing_eagerly())\n",
        "print(\"GPU is\", \"available\" if tf.config.experimental.list_physical_devices(\"GPU\") else \"NOT AVAILABLE\")\n",
        "\n",
        "if tf.test.gpu_device_name():\n",
        "    print('GPU found')\n",
        "else:\n",
        "    print(\"No GPU found\")"
      ],
      "execution_count": 21,
      "outputs": [
        {
          "output_type": "stream",
          "text": [
            "\n",
            "TF Version:  2.4.1\n",
            "Eager mode:  True\n",
            "GPU is available\n",
            "GPU found\n"
          ],
          "name": "stdout"
        },
        {
          "output_type": "stream",
          "text": [
            "/usr/local/lib/python3.7/dist-packages/tensorflow/python/client/session.py:1761: UserWarning:\n",
            "\n",
            "An interactive session is already active. This can cause out-of-memory errors in some cases. You must explicitly call `InteractiveSession.close()` to release resources held by the other session(s).\n",
            "\n"
          ],
          "name": "stderr"
        }
      ]
    },
    {
      "cell_type": "code",
      "metadata": {
        "id": "dfqdPWzEe9jw",
        "colab": {
          "resources": {
            "http://localhost:8080/nbextensions/google.colab/files.js": {
              "data": "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",
              "ok": true,
              "headers": [
                [
                  "content-type",
                  "application/javascript"
                ]
              ],
              "status": 200,
              "status_text": ""
            }
          },
          "base_uri": "https://localhost:8080/",
          "height": 72
        },
        "outputId": "16a6a529-75f4-44ac-8976-9159dfe7f5e9"
      },
      "source": [
        "from google.colab import files\n",
        "uploaded = files.upload()"
      ],
      "execution_count": 22,
      "outputs": [
        {
          "output_type": "display_data",
          "data": {
            "text/html": [
              "\n",
              "     <input type=\"file\" id=\"files-7ea4c5a7-502c-48fa-8058-46b5a32e1d05\" name=\"files[]\" multiple disabled\n",
              "        style=\"border:none\" />\n",
              "     <output id=\"result-7ea4c5a7-502c-48fa-8058-46b5a32e1d05\">\n",
              "      Upload widget is only available when the cell has been executed in the\n",
              "      current browser session. Please rerun this cell to enable.\n",
              "      </output>\n",
              "      <script src=\"/nbextensions/google.colab/files.js\"></script> "
            ],
            "text/plain": [
              "<IPython.core.display.HTML object>"
            ]
          },
          "metadata": {
            "tags": []
          }
        },
        {
          "output_type": "stream",
          "text": [
            "Saving training_data.xlsx to training_data.xlsx\n"
          ],
          "name": "stdout"
        }
      ]
    },
    {
      "cell_type": "code",
      "metadata": {
        "id": "aLZ6dMmbgdkB",
        "colab": {
          "base_uri": "https://localhost:8080/",
          "height": 408
        },
        "outputId": "b27f8ca6-22b3-400a-940c-b4e9c09b73e8"
      },
      "source": [
        "import io\n",
        "dfdata = pd.read_excel(io.BytesIO(uploaded[\"training_data.xlsx\"]))\n",
        "# Dataset is now stored in a Pandas Dataframe\n",
        "dfdata.info()\n",
        "print()\n",
        "print(dfdata.shape)\n",
        "print(dfdata.columns)\n",
        "dfdata.head(5)"
      ],
      "execution_count": 23,
      "outputs": [
        {
          "output_type": "stream",
          "text": [
            "<class 'pandas.core.frame.DataFrame'>\n",
            "RangeIndex: 2278 entries, 0 to 2277\n",
            "Data columns (total 2 columns):\n",
            " #   Column             Non-Null Count  Dtype \n",
            "---  ------             --------------  ----- \n",
            " 0   NACE2              2278 non-null   object\n",
            " 1   Trade_description  2278 non-null   object\n",
            "dtypes: object(2)\n",
            "memory usage: 35.7+ KB\n",
            "\n",
            "(2278, 2)\n",
            "Index(['NACE2', 'Trade_description'], dtype='object')\n"
          ],
          "name": "stdout"
        },
        {
          "output_type": "execute_result",
          "data": {
            "text/html": [
              "<div>\n",
              "<style scoped>\n",
              "    .dataframe tbody tr th:only-of-type {\n",
              "        vertical-align: middle;\n",
              "    }\n",
              "\n",
              "    .dataframe tbody tr th {\n",
              "        vertical-align: top;\n",
              "    }\n",
              "\n",
              "    .dataframe thead th {\n",
              "        text-align: right;\n",
              "    }\n",
              "</style>\n",
              "<table border=\"1\" class=\"dataframe\">\n",
              "  <thead>\n",
              "    <tr style=\"text-align: right;\">\n",
              "      <th></th>\n",
              "      <th>NACE2</th>\n",
              "      <th>Trade_description</th>\n",
              "    </tr>\n",
              "  </thead>\n",
              "  <tbody>\n",
              "    <tr>\n",
              "      <th>0</th>\n",
              "      <td>D - Electricity, gas, steam and air conditioni...</td>\n",
              "      <td>La produzione, il trasporto e il commercio di ...</td>\n",
              "    </tr>\n",
              "    <tr>\n",
              "      <th>1</th>\n",
              "      <td>C - Manufacturing</td>\n",
              "      <td>Das Unternehmen wurde in 1959 gegruendet. Es i...</td>\n",
              "    </tr>\n",
              "    <tr>\n",
              "      <th>2</th>\n",
              "      <td>G - Wholesale and retail trade; repair of moto...</td>\n",
              "      <td>Mettere a disposizione dei propri soci e della...</td>\n",
              "    </tr>\n",
              "    <tr>\n",
              "      <th>3</th>\n",
              "      <td>H - Transportation and storage</td>\n",
              "      <td>L'esercizio della ferrovia a scartamento ridot...</td>\n",
              "    </tr>\n",
              "    <tr>\n",
              "      <th>4</th>\n",
              "      <td>R - Arts, entertainment and recreation</td>\n",
              "      <td>Promuovere e diffondere i sentimenti patriotti...</td>\n",
              "    </tr>\n",
              "  </tbody>\n",
              "</table>\n",
              "</div>"
            ],
            "text/plain": [
              "                                               NACE2                                  Trade_description\n",
              "0  D - Electricity, gas, steam and air conditioni...  La produzione, il trasporto e il commercio di ...\n",
              "1                                  C - Manufacturing  Das Unternehmen wurde in 1959 gegruendet. Es i...\n",
              "2  G - Wholesale and retail trade; repair of moto...  Mettere a disposizione dei propri soci e della...\n",
              "3                     H - Transportation and storage  L'esercizio della ferrovia a scartamento ridot...\n",
              "4             R - Arts, entertainment and recreation  Promuovere e diffondere i sentimenti patriotti..."
            ]
          },
          "metadata": {
            "tags": []
          },
          "execution_count": 23
        }
      ]
    },
    {
      "cell_type": "code",
      "metadata": {
        "id": "ddOAn-k_2URU"
      },
      "source": [
        ""
      ],
      "execution_count": null,
      "outputs": []
    },
    {
      "cell_type": "code",
      "metadata": {
        "id": "07ckjsH8B1m-",
        "colab": {
          "base_uri": "https://localhost:8080/",
          "height": 648
        },
        "outputId": "8b3cd516-daa8-48d6-f0f9-93051f4305e5"
      },
      "source": [
        "# Get label frequencies in descending order\n",
        "label_freq = dfdata['NACE2'].apply(lambda s: str(s)).explode().value_counts().sort_values(ascending=False)\n",
        "\n",
        "# Bar plot\n",
        "style.use(\"fivethirtyeight\")\n",
        "plt.figure(figsize=(12,10))\n",
        "sns.barplot(y=label_freq.index.values, x=label_freq, order=label_freq.iloc[:15].index)\n",
        "plt.title(\"NACE frequency\", fontsize=14)\n",
        "plt.xlabel(\"\")\n",
        "plt.xticks(fontsize=12)\n",
        "plt.yticks(fontsize=12)\n",
        "plt.show()"
      ],
      "execution_count": 24,
      "outputs": [
        {
          "output_type": "display_data",
          "data": {
            "image/png": "[encoded data removed]",
            "text/plain": [
              "<Figure size 864x720 with 1 Axes>"
            ]
          },
          "metadata": {
            "tags": []
          }
        }
      ]
    },
    {
      "cell_type": "code",
      "metadata": {
        "colab": {
          "base_uri": "https://localhost:8080/"
        },
        "id": "OqlVDIJa_GN_",
        "outputId": "bfbc1a8b-07e2-4722-a8c2-57d6203818e3"
      },
      "source": [
        "import nltk\n",
        "nltk.download('stopwords')"
      ],
      "execution_count": 25,
      "outputs": [
        {
          "output_type": "stream",
          "text": [
            "[nltk_data] Downloading package stopwords to /root/nltk_data...\n",
            "[nltk_data]   Package stopwords is already up-to-date!\n"
          ],
          "name": "stdout"
        },
        {
          "output_type": "execute_result",
          "data": {
            "text/plain": [
              "True"
            ]
          },
          "metadata": {
            "tags": []
          },
          "execution_count": 25
        }
      ]
    },
    {
      "cell_type": "code",
      "metadata": {
        "colab": {
          "base_uri": "https://localhost:8080/"
        },
        "id": "7gspVzjoFNqH",
        "outputId": "442e58cd-9cf1-478b-ba3c-def8bb54ef2a"
      },
      "source": [
        "import nltk\n",
        "from nltk.corpus import stopwords\n",
        "stop = stopwords.words('italian')\n",
        "stop"
      ],
      "execution_count": 26,
      "outputs": [
        {
          "output_type": "execute_result",
          "data": {
            "text/plain": [
              "['ad',\n",
              " 'al',\n",
              " 'allo',\n",
              " 'ai',\n",
              " 'agli',\n",
              " 'all',\n",
              " 'agl',\n",
              " 'alla',\n",
              " 'alle',\n",
              " 'con',\n",
              " 'col',\n",
              " 'coi',\n",
              " 'da',\n",
              " 'dal',\n",
              " 'dallo',\n",
              " 'dai',\n",
              " 'dagli',\n",
              " 'dall',\n",
              " 'dagl',\n",
              " 'dalla',\n",
              " 'dalle',\n",
              " 'di',\n",
              " 'del',\n",
              " 'dello',\n",
              " 'dei',\n",
              " 'degli',\n",
              " 'dell',\n",
              " 'degl',\n",
              " 'della',\n",
              " 'delle',\n",
              " 'in',\n",
              " 'nel',\n",
              " 'nello',\n",
              " 'nei',\n",
              " 'negli',\n",
              " 'nell',\n",
              " 'negl',\n",
              " 'nella',\n",
              " 'nelle',\n",
              " 'su',\n",
              " 'sul',\n",
              " 'sullo',\n",
              " 'sui',\n",
              " 'sugli',\n",
              " 'sull',\n",
              " 'sugl',\n",
              " 'sulla',\n",
              " 'sulle',\n",
              " 'per',\n",
              " 'tra',\n",
              " 'contro',\n",
              " 'io',\n",
              " 'tu',\n",
              " 'lui',\n",
              " 'lei',\n",
              " 'noi',\n",
              " 'voi',\n",
              " 'loro',\n",
              " 'mio',\n",
              " 'mia',\n",
              " 'miei',\n",
              " 'mie',\n",
              " 'tuo',\n",
              " 'tua',\n",
              " 'tuoi',\n",
              " 'tue',\n",
              " 'suo',\n",
              " 'sua',\n",
              " 'suoi',\n",
              " 'sue',\n",
              " 'nostro',\n",
              " 'nostra',\n",
              " 'nostri',\n",
              " 'nostre',\n",
              " 'vostro',\n",
              " 'vostra',\n",
              " 'vostri',\n",
              " 'vostre',\n",
              " 'mi',\n",
              " 'ti',\n",
              " 'ci',\n",
              " 'vi',\n",
              " 'lo',\n",
              " 'la',\n",
              " 'li',\n",
              " 'le',\n",
              " 'gli',\n",
              " 'ne',\n",
              " 'il',\n",
              " 'un',\n",
              " 'uno',\n",
              " 'una',\n",
              " 'ma',\n",
              " 'ed',\n",
              " 'se',\n",
              " 'perché',\n",
              " 'anche',\n",
              " 'come',\n",
              " 'dov',\n",
              " 'dove',\n",
              " 'che',\n",
              " 'chi',\n",
              " 'cui',\n",
              " 'non',\n",
              " 'più',\n",
              " 'quale',\n",
              " 'quanto',\n",
              " 'quanti',\n",
              " 'quanta',\n",
              " 'quante',\n",
              " 'quello',\n",
              " 'quelli',\n",
              " 'quella',\n",
              " 'quelle',\n",
              " 'questo',\n",
              " 'questi',\n",
              " 'questa',\n",
              " 'queste',\n",
              " 'si',\n",
              " 'tutto',\n",
              " 'tutti',\n",
              " 'a',\n",
              " 'c',\n",
              " 'e',\n",
              " 'i',\n",
              " 'l',\n",
              " 'o',\n",
              " 'ho',\n",
              " 'hai',\n",
              " 'ha',\n",
              " 'abbiamo',\n",
              " 'avete',\n",
              " 'hanno',\n",
              " 'abbia',\n",
              " 'abbiate',\n",
              " 'abbiano',\n",
              " 'avrò',\n",
              " 'avrai',\n",
              " 'avrà',\n",
              " 'avremo',\n",
              " 'avrete',\n",
              " 'avranno',\n",
              " 'avrei',\n",
              " 'avresti',\n",
              " 'avrebbe',\n",
              " 'avremmo',\n",
              " 'avreste',\n",
              " 'avrebbero',\n",
              " 'avevo',\n",
              " 'avevi',\n",
              " 'aveva',\n",
              " 'avevamo',\n",
              " 'avevate',\n",
              " 'avevano',\n",
              " 'ebbi',\n",
              " 'avesti',\n",
              " 'ebbe',\n",
              " 'avemmo',\n",
              " 'aveste',\n",
              " 'ebbero',\n",
              " 'avessi',\n",
              " 'avesse',\n",
              " 'avessimo',\n",
              " 'avessero',\n",
              " 'avendo',\n",
              " 'avuto',\n",
              " 'avuta',\n",
              " 'avuti',\n",
              " 'avute',\n",
              " 'sono',\n",
              " 'sei',\n",
              " 'è',\n",
              " 'siamo',\n",
              " 'siete',\n",
              " 'sia',\n",
              " 'siate',\n",
              " 'siano',\n",
              " 'sarò',\n",
              " 'sarai',\n",
              " 'sarà',\n",
              " 'saremo',\n",
              " 'sarete',\n",
              " 'saranno',\n",
              " 'sarei',\n",
              " 'saresti',\n",
              " 'sarebbe',\n",
              " 'saremmo',\n",
              " 'sareste',\n",
              " 'sarebbero',\n",
              " 'ero',\n",
              " 'eri',\n",
              " 'era',\n",
              " 'eravamo',\n",
              " 'eravate',\n",
              " 'erano',\n",
              " 'fui',\n",
              " 'fosti',\n",
              " 'fu',\n",
              " 'fummo',\n",
              " 'foste',\n",
              " 'furono',\n",
              " 'fossi',\n",
              " 'fosse',\n",
              " 'fossimo',\n",
              " 'fossero',\n",
              " 'essendo',\n",
              " 'faccio',\n",
              " 'fai',\n",
              " 'facciamo',\n",
              " 'fanno',\n",
              " 'faccia',\n",
              " 'facciate',\n",
              " 'facciano',\n",
              " 'farò',\n",
              " 'farai',\n",
              " 'farà',\n",
              " 'faremo',\n",
              " 'farete',\n",
              " 'faranno',\n",
              " 'farei',\n",
              " 'faresti',\n",
              " 'farebbe',\n",
              " 'faremmo',\n",
              " 'fareste',\n",
              " 'farebbero',\n",
              " 'facevo',\n",
              " 'facevi',\n",
              " 'faceva',\n",
              " 'facevamo',\n",
              " 'facevate',\n",
              " 'facevano',\n",
              " 'feci',\n",
              " 'facesti',\n",
              " 'fece',\n",
              " 'facemmo',\n",
              " 'faceste',\n",
              " 'fecero',\n",
              " 'facessi',\n",
              " 'facesse',\n",
              " 'facessimo',\n",
              " 'facessero',\n",
              " 'facendo',\n",
              " 'sto',\n",
              " 'stai',\n",
              " 'sta',\n",
              " 'stiamo',\n",
              " 'stanno',\n",
              " 'stia',\n",
              " 'stiate',\n",
              " 'stiano',\n",
              " 'starò',\n",
              " 'starai',\n",
              " 'starà',\n",
              " 'staremo',\n",
              " 'starete',\n",
              " 'staranno',\n",
              " 'starei',\n",
              " 'staresti',\n",
              " 'starebbe',\n",
              " 'staremmo',\n",
              " 'stareste',\n",
              " 'starebbero',\n",
              " 'stavo',\n",
              " 'stavi',\n",
              " 'stava',\n",
              " 'stavamo',\n",
              " 'stavate',\n",
              " 'stavano',\n",
              " 'stetti',\n",
              " 'stesti',\n",
              " 'stette',\n",
              " 'stemmo',\n",
              " 'steste',\n",
              " 'stettero',\n",
              " 'stessi',\n",
              " 'stesse',\n",
              " 'stessimo',\n",
              " 'stessero',\n",
              " 'stando']"
            ]
          },
          "metadata": {
            "tags": []
          },
          "execution_count": 26
        }
      ]
    },
    {
      "cell_type": "markdown",
      "metadata": {
        "id": "V9GU6vzlEtV9"
      },
      "source": [
        "Remove italian stopwords"
      ]
    },
    {
      "cell_type": "code",
      "metadata": {
        "id": "-yOAX7X9BAMM"
      },
      "source": [
        "import nltk\n",
        "from nltk.corpus import stopwords\n",
        "stop = stopwords.words('italian')\n",
        "\n",
        "\n",
        "def StopWordCleanser(word):\n",
        "    if word in stop:\n",
        "        return \"\"\n",
        "    else:\n",
        "        return word\n",
        "\n",
        "dfdata['Trade_description'] = dfdata['Trade_description'].map(lambda Trade_description: Trade_description.lower())\n",
        "dfdata['Trade_description'] = dfdata['Trade_description'].map(lambda Trade_description: Trade_description.replace(\"'\", \" \"))\n",
        "dfdata['Trade_description'] = dfdata['Trade_description'].map(lambda Trade_description: Trade_description.replace(\",\", \" \"))\n",
        "dfdata['Trade_description'] = dfdata['Trade_description'].apply(lambda x: \" \".join([StopWordCleanser(i) for i in str(x).split()]))\n"
      ],
      "execution_count": 27,
      "outputs": []
    },
    {
      "cell_type": "code",
      "metadata": {
        "colab": {
          "base_uri": "https://localhost:8080/"
        },
        "id": "g4U2ATnKB0dy",
        "outputId": "401ac79a-02a4-4ab2-c2ce-23f4e4695d33"
      },
      "source": [
        "dfdata['Trade_description'] "
      ],
      "execution_count": 28,
      "outputs": [
        {
          "output_type": "execute_result",
          "data": {
            "text/plain": [
              "0        produzione  trasporto   commercio  energia el...\n",
              "1       das unternehmen wurde  1959 gegruendet. es ist...\n",
              "2       mettere  disposizione  propri soci   popolazio...\n",
              "3        esercizio  ferrovia  scartamento ridotto  loc...\n",
              "4       promuovere  diffondere  sentimenti patriottici...\n",
              "                              ...                        \n",
              "2273     esercizio   impresa generale (general contrac...\n",
              "2274     acquisto  vendita  consulenza  riparazione  i...\n",
              "2275     gestione   spazio creativo  ambito artistico ...\n",
              "2276     consulenza   realizzazione  lavori  costruzio...\n",
              "2277             commercio    oggetti  servono  scrivere.\n",
              "Name: Trade_description, Length: 2278, dtype: object"
            ]
          },
          "metadata": {
            "tags": []
          },
          "execution_count": 28
        }
      ]
    },
    {
      "cell_type": "markdown",
      "metadata": {
        "id": "tv4gEKY7NU2n"
      },
      "source": [
        "# New Section"
      ]
    },
    {
      "cell_type": "code",
      "metadata": {
        "colab": {
          "base_uri": "https://localhost:8080/"
        },
        "id": "W1im3abN3coO",
        "outputId": "4a7e1052-666c-49d3-8860-9457330e66dc"
      },
      "source": [
        "# length of dictionary\n",
        "NUM_WORDS = 5000\n",
        "\n",
        "# Length of each description\n",
        "SEQ_LEN = 250\n",
        "\n",
        "#create tokenizer for our data\n",
        "tokenizer = tf.keras.preprocessing.text.Tokenizer(num_words=NUM_WORDS, oov_token='<UNK>', filters='!\"#$%&()*+,./:;<=>?@[\\\\]^`{|}~\\t\\n')\n",
        "tokenizer.fit_on_texts(dfdata['Trade_description'])\n",
        "\n",
        "#convert text data to numerical indexes\n",
        "sect_seqs=tokenizer.texts_to_sequences(dfdata['Trade_description'])\n",
        "\n",
        "#pad data up to SEQ_LEN (note that we truncate if there are more than SEQ_LEN tokens)\n",
        "sect_seqs=tf.keras.preprocessing.sequence.pad_sequences(sect_seqs, maxlen=SEQ_LEN, padding=\"post\")\n",
        "\n",
        "print(sect_seqs)"
      ],
      "execution_count": 29,
      "outputs": [
        {
          "output_type": "stream",
          "text": [
            "[[  46  155   22 ...    0    0    0]\n",
            " [1530  648 4225 ...    0    0    0]\n",
            " [ 575  258  192 ...    0    0    0]\n",
            " ...\n",
            " [   8 1891 3675 ...    0    0    0]\n",
            " [  17   90   41 ...    0    0    0]\n",
            " [  22  218 1644 ...    0    0    0]]\n"
          ],
          "name": "stdout"
        }
      ]
    },
    {
      "cell_type": "code",
      "metadata": {
        "id": "z70WAiKT4YZY"
      },
      "source": [
        "\n",
        "nace_labels=pd.DataFrame({'NACE2': dfdata['NACE2']})\n",
        "# wine_labels=wine_labels.replace({'variety' : char2idx})\n",
        "nace_labels=nace_labels.replace(' ', '_', regex=True)\n",
        "\n",
        "nace_labels_list = []\n",
        "for item in nace_labels['NACE2']:\n",
        "    nace_labels_list.append(str(item))\n",
        "\n",
        "label_tokenizer = tf.keras.preprocessing.text.Tokenizer(split=' ', filters='!\"#$%&()*+,./:;<=>?@[\\\\]^`{|}~\\t\\n')\n",
        "label_tokenizer.fit_on_texts(nace_labels_list)\n",
        "\n",
        "label_nace = list(label_freq[label_freq>=0].index)\n",
        "print(label_nace)\n",
        "\n",
        "num_labels = len(label_nace)\n",
        "\n",
        "\n",
        "print(len(label_nace))\n",
        "print(label_tokenizer.word_index)\n",
        "\n",
        "nace_label_seq = np.array(label_tokenizer.texts_to_sequences(nace_labels_list))\n",
        "\n",
        "#wine_label_seq.reshape(129864, 1)\n",
        "nace_label_seq.shape\n",
        "#print(wine_label_seq)"
      ],
      "execution_count": null,
      "outputs": []
    },
    {
      "cell_type": "code",
      "metadata": {
        "id": "uPtjl6jW551X"
      },
      "source": [
        "reverse_word_index = dict([(value, key) for (key, value) in tokenizer.word_index.items()])\n",
        "\n",
        "def decode_article(text):\n",
        "    return ' '.join([reverse_word_index.get(i, '?') for i in text])\n",
        "\n",
        "\n",
        "reverse_label_index = dict([(value, key) for (key, value) in label_tokenizer.word_index.items()])\n",
        "\n",
        "def decode_label(text):\n",
        "    return ' '.join([reverse_label_index.get(i, '?') for i in text])"
      ],
      "execution_count": 31,
      "outputs": []
    },
    {
      "cell_type": "code",
      "metadata": {
        "colab": {
          "base_uri": "https://localhost:8080/"
        },
        "id": "ZGh-sFPb7SZF",
        "outputId": "391699d5-7d17-4476-fe6c-491ab1e31620"
      },
      "source": [
        "# Demonstrate what the input looks like, how it gets encoded.\n",
        "\n",
        "test_entry=3\n",
        "\n",
        "print(decode_article(sect_seqs[test_entry]))\n",
        "print('---')\n",
        "print(sect_seqs[test_entry])\n",
        "\n",
        "print(decode_label(nace_label_seq[test_entry]))\n",
        "print('---')\n",
        "print(nace_label_seq[test_entry])"
      ],
      "execution_count": 32,
      "outputs": [
        {
          "output_type": "stream",
          "text": [
            "esercizio ferrovia scartamento ridotto locarno camedo confine italo-svizzero centovalli giusta concessione federale 23 06 1905 linea locarno-camedo ulteriori modificazioni esercizio autolinee urbane extra-urbane secondo concessioni ottenute dipartimento federale trasporti comunicazioni energie attuali future costruzione esercizio altre ferrovie filovie linee navigazione auto filobus quali società divenire concessionaria pure esercizio linee ferroviarie conto altre società proprietarie ogni altra impresa accessoria dipendente esercizio trasporti costruzione affitto acquisto terreni gestione immobili autorimesse hangar immobili deposito merci nonché costruzione esercizio impianti energetici compera energia altre imprese elettriche vendita locazione energia altre imprese ferroviarie enti pubblici persone private organizzazione promozione trasporti turistici purché tale attività svolta esclusivamente limiti scopo principale società assunzione genere qualsiasi impresa trasporto tanto cantone fuori relative costruzioni impianti accessori ? ? ? ? ? ? ? ? ? ? ? ? ? ? ? ? ? ? ? ? ? ? ? ? ? ? ? ? ? ? ? ? ? ? ? ? ? ? ? ? ? ? ? ? ? ? ? ? ? ? ? ? ? ? ? ? ? ? ? ? ? ? ? ? ? ? ? ? ? ? ? ? ? ? ? ? ? ? ? ? ? ? ? ? ? ? ? ? ? ? ? ? ? ? ? ? ? ? ? ? ? ? ? ? ? ? ? ? ? ? ? ? ? ? ? ? ? ? ? ? ? ? ? ? ? ? ? ? ? ? ? ? ?\n",
            "---\n",
            "[  49 1964 2987 2988  987 4248 2333 4249 4250 1532  394  590 4251 2989\n",
            " 4252 1052 4253 1727 4254   49 4255 4256 4257  408 1728 4258 4259  590\n",
            "  168  768  447 2334 2335   52   49   11 2336 4260  649 1965  813 4261\n",
            "  163    2 2990 1533   39   49  649 1729   76   11    2 4262    6   58\n",
            "   99 1359 1966   49  168   52  382   18  330    8   14 2337 4263   14\n",
            "  920  183   16   52   49   32 1120  395  176   11   19  499    9  129\n",
            "  176   11   19 1729  137   74  118  729   47   78  168  858 1360  356\n",
            "    4  988  613 1534    5  309    2   92   13   30   99  155 1535  647\n",
            " 1239  349  232   32  102    0    0    0    0    0    0    0    0    0\n",
            "    0    0    0    0    0    0    0    0    0    0    0    0    0    0\n",
            "    0    0    0    0    0    0    0    0    0    0    0    0    0    0\n",
            "    0    0    0    0    0    0    0    0    0    0    0    0    0    0\n",
            "    0    0    0    0    0    0    0    0    0    0    0    0    0    0\n",
            "    0    0    0    0    0    0    0    0    0    0    0    0    0    0\n",
            "    0    0    0    0    0    0    0    0    0    0    0    0    0    0\n",
            "    0    0    0    0    0    0    0    0    0    0    0    0    0    0\n",
            "    0    0    0    0    0    0    0    0    0    0    0    0    0    0\n",
            "    0    0    0    0    0    0    0    0    0    0    0    0]\n",
            "h_-_transportation_and_storage\n",
            "---\n",
            "[12]\n"
          ],
          "name": "stdout"
        }
      ]
    },
    {
      "cell_type": "code",
      "metadata": {
        "colab": {
          "base_uri": "https://localhost:8080/"
        },
        "id": "HaTrS8v2GvQe",
        "outputId": "dfea21f2-8aa5-4caa-9aaa-df78231897b4"
      },
      "source": [
        "label_words=dfdata['NACE2'].unique()\n",
        "number_class=len(dfdata['NACE2'].unique())\n",
        "dict_nace= {i: label_words[i] for i in range(0, len(label_words))}\n",
        "inv_dict_nace= {v: k for k, v in dict_nace.items()}\n",
        "nace_label_seq2=dfdata['NACE2'].map(inv_dict_nace)\n",
        "nace_label_seq2=pd.Series(nace_label_seq2)\n",
        "nace_label_seq2=nace_label_seq2.to_frame()\n",
        "nace_label_seq2=nace_label_seq2.values\n",
        "\n",
        "nace_label_seq2.shape\n",
        "nace_label_seq2=nace_label_seq2+1\n",
        "print(nace_label_seq2)\n",
        "len(nace_label_seq2)\n",
        "print(number_class)"
      ],
      "execution_count": 33,
      "outputs": [
        {
          "output_type": "stream",
          "text": [
            "[[ 1]\n",
            " [ 2]\n",
            " [ 3]\n",
            " ...\n",
            " [10]\n",
            " [14]\n",
            " [ 7]]\n",
            "17\n"
          ],
          "name": "stdout"
        }
      ]
    },
    {
      "cell_type": "code",
      "metadata": {
        "id": "wY7-fMUewVob",
        "colab": {
          "base_uri": "https://localhost:8080/"
        },
        "outputId": "4c37f4e5-ebe9-4678-d621-7a2662cf319b"
      },
      "source": [
        "# Divide into two\n",
        "X_train, X_test, y_train, y_test = sk.train_test_split(sect_seqs,\n",
        "                                                    nace_label_seq2,\n",
        "                                                    test_size=0.15,\n",
        "                                                    random_state=42)\n",
        "\n",
        "print('Test: ' + str(len(X_test)) + ' Train: ' + str(len(X_train)))\n",
        "\n",
        "X_train = X_train.astype(\"float32\")\n",
        "X_test = X_test.astype(\"float32\")\n",
        "\n",
        "\n",
        "y_train = y_train.astype(\"float32\")\n",
        "y_test = y_test.astype(\"float32\")\n",
        "\n",
        "print(type(X_train), X_train.shape)\n",
        "\n",
        "# X_train = X_train / 1024.0\n",
        "# X_test = X_test / 1024.0\n",
        "# y_train = y_train / 1024.0\n",
        "# y_test = y_test / 1024.0\n",
        "\n",
        "print(X_train.shape)\n",
        "print(y_train.shape)"
      ],
      "execution_count": 34,
      "outputs": [
        {
          "output_type": "stream",
          "text": [
            "Test: 342 Train: 1936\n",
            "<class 'numpy.ndarray'> (1936, 250)\n",
            "(1936, 250)\n",
            "(1936, 1)\n"
          ],
          "name": "stdout"
        }
      ]
    },
    {
      "cell_type": "code",
      "metadata": {
        "colab": {
          "base_uri": "https://localhost:8080/"
        },
        "id": "B8hRme2R56LO",
        "outputId": "608403e4-0241-4b12-9606-df018440e2b8"
      },
      "source": [
        "print(label_nace)\n",
        "\n",
        "\n"
      ],
      "execution_count": 93,
      "outputs": [
        {
          "output_type": "stream",
          "text": [
            "['G - Wholesale and retail trade; repair of motor vehicles and motorcycles', 'M - Professional, scientific and technical activities', 'F - Construction', 'I - Accommodation and food service activities', 'S - Other service activities', 'L - Real estate activities', 'C - Manufacturing', 'K - Financial and insurance activities', 'N - Administrative and support service activities', 'H - Transportation and storage', 'J - Information and communication', 'Q - Human health and social work activities', 'R - Arts, entertainment and recreation', 'A - Agriculture, forestry and fishing', 'P - Education', 'D - Electricity, gas, steam and air conditioning supply', 'E - Water supply; sewerage, waste management and remediation activities']\n"
          ],
          "name": "stdout"
        }
      ]
    },
    {
      "cell_type": "code",
      "metadata": {
        "id": "cwc0z4fh0ghI",
        "colab": {
          "base_uri": "https://localhost:8080/"
        },
        "outputId": "43d2338e-3872-4ea1-c557-51aa3068609c"
      },
      "source": [
        "print(X_train.shape)\n",
        "\n",
        "print(y_train.shape)\n",
        "len(label_words)\n",
        "print(X_test.shape)"
      ],
      "execution_count": 36,
      "outputs": [
        {
          "output_type": "stream",
          "text": [
            "(1936, 250)\n",
            "(1936, 1)\n",
            "(342, 250)\n"
          ],
          "name": "stdout"
        }
      ]
    },
    {
      "cell_type": "code",
      "metadata": {
        "id": "2aPpb-ddwcsp",
        "colab": {
          "base_uri": "https://localhost:8080/"
        },
        "outputId": "0f8eeabb-a5ed-457f-ba0d-a2ff4d5b5d57"
      },
      "source": [
        "EMBEDDING_SIZE = 700\n",
        "EMBEDDING_SIZE_2 = 700\n",
        "EMBEDDING_SIZE_3 = (num_labels+1)\n",
        "BATCH_SIZE = 171  # This can really speed things up\n",
        "EPOCHS = 10\n",
        "LR = 1e-5  # Keep it small when transfer learning\n",
        "\n",
        "# model = tf.keras.Sequential([\n",
        "#     tf.keras.layers.Embedding(NUM_WORDS, EMBEDDING_SIZE),\n",
        "#     tf.keras.layers.GlobalAveragePooling1D(),\n",
        "#     tf.keras.layers.Dense(1, activation='relu', name='output')])\n",
        "# #    tf.keras.layers.Dense(1, activation='sigmoid')])\n",
        "# #    tf.keras.layers.Dense(len(idx2char), activation='relu', name='hidden_layer')])\n",
        "\n",
        "# https://towardsdatascience.com/multi-class-text-classification-with-lstm-using-tensorflow-2-0-d88627c10a35\n",
        "model = tf.keras.Sequential([\n",
        "    \n",
        "    # Add an Embedding layer expecting input vocab of a given size, and output embedding dimension of fized size we set at the top\n",
        "    tf.keras.layers.Embedding(NUM_WORDS, EMBEDDING_SIZE),\n",
        "#     tf.keras.layers.Embedding(input_dim=NUM_WORDS, \n",
        "#                            output_dim=EMBEDDING_SIZE, \n",
        "#                            input_length=SEQ_LEN), \n",
        "#     tf.keras.layers.Bidirectional(tf.keras.layers.LSTM(EMBEDDING_SIZE)),\n",
        "    tf.keras.layers.Conv1D(300, 5, activation='relu'), \n",
        "    tf.keras.layers.Dropout(.1, input_shape=(300,)),\n",
        "    tf.keras.layers.GlobalMaxPooling1D(), \n",
        "    \n",
        "    # use ReLU in place of tanh function since they are very good alternatives of each other.\n",
        "    tf.keras.layers.Dense(EMBEDDING_SIZE_2, activation='relu'),\n",
        "      tf.keras.layers.Dropout(0.1, input_shape=(EMBEDDING_SIZE_2,)),\n",
        "    # Add a Dense layer with additional units and softmax activation.\n",
        "    # When we have multiple outputs, softmax convert outputs layers into a probability distribution.\n",
        "    tf.keras.layers.Dense(EMBEDDING_SIZE_3, activation='softmax')\n",
        "])\n",
        "\n",
        "model.summary()\n",
        "\n",
        "model.compile(optimizer='adam',\n",
        "#                optimizer=tf.keras.optimizers.Adam(learning_rate=LR),\n",
        "#               loss='binary_crossentropy',\n",
        "              loss='sparse_categorical_crossentropy',\n",
        "#               loss=tf.losses.BinaryCrossentropy(from_logits=True),\n",
        "              metrics=['accuracy'])"
      ],
      "execution_count": 37,
      "outputs": [
        {
          "output_type": "stream",
          "text": [
            "Model: \"sequential\"\n",
            "_________________________________________________________________\n",
            "Layer (type)                 Output Shape              Param #   \n",
            "=================================================================\n",
            "embedding (Embedding)        (None, None, 700)         3500000   \n",
            "_________________________________________________________________\n",
            "conv1d (Conv1D)              (None, None, 300)         1050300   \n",
            "_________________________________________________________________\n",
            "dropout (Dropout)            (None, None, 300)         0         \n",
            "_________________________________________________________________\n",
            "global_max_pooling1d (Global (None, 300)               0         \n",
            "_________________________________________________________________\n",
            "dense (Dense)                (None, 700)               210700    \n",
            "_________________________________________________________________\n",
            "dropout_1 (Dropout)          (None, 700)               0         \n",
            "_________________________________________________________________\n",
            "dense_1 (Dense)              (None, 18)                12618     \n",
            "=================================================================\n",
            "Total params: 4,773,618\n",
            "Trainable params: 4,773,618\n",
            "Non-trainable params: 0\n",
            "_________________________________________________________________\n"
          ],
          "name": "stdout"
        }
      ]
    },
    {
      "cell_type": "code",
      "metadata": {
        "colab": {
          "base_uri": "https://localhost:8080/"
        },
        "id": "WLrIZnBHKq1C",
        "outputId": "b9c9f759-e24b-432b-a078-293413b9342e"
      },
      "source": [
        "steps_per_epoch = len(X_train)//BATCH_SIZE\n",
        "validation_steps_num = len(X_test)//BATCH_SIZE # if you have test data\n",
        "validation_steps_num\n"
      ],
      "execution_count": 38,
      "outputs": [
        {
          "output_type": "execute_result",
          "data": {
            "text/plain": [
              "2"
            ]
          },
          "metadata": {
            "tags": []
          },
          "execution_count": 38
        }
      ]
    },
    {
      "cell_type": "code",
      "metadata": {
        "id": "xmh_1Czxwo4s",
        "colab": {
          "base_uri": "https://localhost:8080/"
        },
        "outputId": "8f48789e-33fe-49b5-bee6-d2ec0651d8d2"
      },
      "source": [
        "# Directory where the checkpoints will be saved\n",
        "checkpoint_dir = './checkpoints/classifer_training_checkpoints'\n",
        "# Name of the checkpoint files\n",
        "checkpoint_prefix = os.path.join(checkpoint_dir, \"ckpt_{epoch}\")\n",
        "\n",
        "checkpoint_callback=tf.keras.callbacks.ModelCheckpoint(\n",
        "    filepath=checkpoint_prefix,\n",
        "    monitor='accuracy',\n",
        "    save_best_only=True,\n",
        "    mode='auto',\n",
        "    save_weights_only=True)\n",
        "\n",
        "history = model.fit(X_train, y_train,\n",
        "                    batch_size=BATCH_SIZE,\n",
        "                    epochs=EPOCHS,\n",
        "                    validation_data=(X_test, y_test),\n",
        "                    validation_steps=validation_steps_num,\n",
        "                   callbacks=[checkpoint_callback]\n",
        "                    )\n",
        "\n",
        "# es = tf.keras.callbacks.EarlyStopping(monitor='val_accuracy', mode='max')\n",
        "# callbacks=[es]\n",
        "# history = model.fit(X_train, y_train,\n",
        "#                     batch_size=BATCH_SIZE,\n",
        "#                     epochs=EPOCHS,\n",
        "#                     validation_data=(X_test, y_test),\n",
        "#                     callbacks=callbacks)\n",
        "\n",
        "loss, accuracy = model.evaluate(X_test, y_test)\n",
        "\n",
        "print(\"Loss: \", loss)\n",
        "print(\"Accuracy: \", accuracy)"
      ],
      "execution_count": 40,
      "outputs": [
        {
          "output_type": "stream",
          "text": [
            "Epoch 1/10\n",
            "12/12 [==============================] - 2s 154ms/step - loss: 0.0296 - accuracy: 0.9974 - val_loss: 1.4844 - val_accuracy: 0.6316\n",
            "Epoch 2/10\n",
            "12/12 [==============================] - 2s 146ms/step - loss: 0.0242 - accuracy: 0.9959 - val_loss: 1.4800 - val_accuracy: 0.6257\n",
            "Epoch 3/10\n",
            "12/12 [==============================] - 2s 146ms/step - loss: 0.0201 - accuracy: 0.9964 - val_loss: 1.5401 - val_accuracy: 0.6316\n",
            "Epoch 4/10\n",
            "12/12 [==============================] - 2s 146ms/step - loss: 0.0183 - accuracy: 0.9969 - val_loss: 1.4738 - val_accuracy: 0.6491\n",
            "Epoch 5/10\n",
            "12/12 [==============================] - 2s 144ms/step - loss: 0.0149 - accuracy: 0.9969 - val_loss: 1.5265 - val_accuracy: 0.6287\n",
            "Epoch 6/10\n",
            "12/12 [==============================] - 2s 144ms/step - loss: 0.0156 - accuracy: 0.9964 - val_loss: 1.5599 - val_accuracy: 0.6374\n",
            "Epoch 7/10\n",
            "12/12 [==============================] - 2s 145ms/step - loss: 0.0148 - accuracy: 0.9959 - val_loss: 1.5230 - val_accuracy: 0.6257\n",
            "Epoch 8/10\n",
            "12/12 [==============================] - 2s 146ms/step - loss: 0.0145 - accuracy: 0.9974 - val_loss: 1.5318 - val_accuracy: 0.6316\n",
            "Epoch 9/10\n",
            "12/12 [==============================] - 2s 145ms/step - loss: 0.0137 - accuracy: 0.9974 - val_loss: 1.6447 - val_accuracy: 0.6316\n",
            "Epoch 10/10\n",
            "12/12 [==============================] - 2s 145ms/step - loss: 0.0124 - accuracy: 0.9964 - val_loss: 1.5177 - val_accuracy: 0.6287\n",
            "11/11 [==============================] - 0s 10ms/step - loss: 1.5177 - accuracy: 0.6287\n",
            "Loss:  1.5177267789840698\n",
            "Accuracy:  0.628654956817627\n"
          ],
          "name": "stdout"
        }
      ]
    },
    {
      "cell_type": "code",
      "metadata": {
        "id": "fVSLD22ZvvX4",
        "colab": {
          "base_uri": "https://localhost:8080/"
        },
        "outputId": "80dfc24f-f690-4eed-89b5-680df1a998ae"
      },
      "source": [
        "tf.train.latest_checkpoint(checkpoint_dir)\n",
        "\n",
        "model.load_weights(tf.train.latest_checkpoint(checkpoint_dir))\n",
        "\n",
        "model.build(tf.TensorShape([1, None]))\n",
        "\n",
        "model.summary()"
      ],
      "execution_count": 41,
      "outputs": [
        {
          "output_type": "stream",
          "text": [
            "Model: \"sequential\"\n",
            "_________________________________________________________________\n",
            "Layer (type)                 Output Shape              Param #   \n",
            "=================================================================\n",
            "embedding (Embedding)        (None, None, 700)         3500000   \n",
            "_________________________________________________________________\n",
            "conv1d (Conv1D)              (None, None, 300)         1050300   \n",
            "_________________________________________________________________\n",
            "dropout (Dropout)            (None, None, 300)         0         \n",
            "_________________________________________________________________\n",
            "global_max_pooling1d (Global (None, 300)               0         \n",
            "_________________________________________________________________\n",
            "dense (Dense)                (None, 700)               210700    \n",
            "_________________________________________________________________\n",
            "dropout_1 (Dropout)          (None, 700)               0         \n",
            "_________________________________________________________________\n",
            "dense_1 (Dense)              (None, 18)                12618     \n",
            "=================================================================\n",
            "Total params: 4,773,618\n",
            "Trainable params: 4,773,618\n",
            "Non-trainable params: 0\n",
            "_________________________________________________________________\n"
          ],
          "name": "stdout"
        }
      ]
    },
    {
      "cell_type": "code",
      "metadata": {
        "colab": {
          "base_uri": "https://localhost:8080/",
          "height": 325
        },
        "id": "jYc98r6YLoEl",
        "outputId": "c21106f3-8cc0-46da-bb84-4f2f5ec6baa6"
      },
      "source": [
        "history_dict = history.history\n",
        "history_dict.keys()\n",
        "\n",
        "acc = history_dict['accuracy']\n",
        "val_acc = history_dict['val_accuracy']\n",
        "loss = history_dict['loss']\n",
        "val_loss = history_dict['val_loss']\n",
        "\n",
        "epochs = range(1, len(acc) + 1)\n",
        "\n",
        "# \"bo\" is for \"blue dot\"\n",
        "plt.plot(epochs, loss, 'bo', label='Training loss')\n",
        "# b is for \"solid blue line\"\n",
        "plt.plot(epochs, val_loss, 'b', label='Validation loss')\n",
        "plt.title('Training and validation loss')\n",
        "plt.xlabel('Epochs')\n",
        "plt.ylabel('Loss')\n",
        "plt.legend()\n",
        "\n",
        "plt.show()"
      ],
      "execution_count": 42,
      "outputs": [
        {
          "output_type": "display_data",
          "data": {
            "image/png": "[encoded data removed]",
            "text/plain": [
              "<Figure size 432x288 with 1 Axes>"
            ]
          },
          "metadata": {
            "tags": []
          }
        }
      ]
    },
    {
      "cell_type": "code",
      "metadata": {
        "id": "uQ8G5Pw8wG1k",
        "colab": {
          "base_uri": "https://localhost:8080/",
          "height": 325
        },
        "outputId": "34afda0e-4d91-4fcb-dd12-fb5917f6e483"
      },
      "source": [
        "plt.clf()   # clear figure\n",
        "\n",
        "plt.plot(epochs, acc, 'bo', label='Training acc')\n",
        "plt.plot(epochs, val_acc, 'b', label='Validation acc')\n",
        "plt.title('Training and validation accuracy')\n",
        "plt.xlabel('Epochs')\n",
        "plt.ylabel('Accuracy')\n",
        "plt.legend(loc='lower right')\n",
        "\n",
        "plt.show()"
      ],
      "execution_count": 36,
      "outputs": [
        {
          "output_type": "display_data",
          "data": {
            "image/png": "[encoded data removed]",
            "text/plain": [
              "<Figure size 432x288 with 1 Axes>"
            ]
          },
          "metadata": {
            "tags": []
          }
        }
      ]
    },
    {
      "cell_type": "code",
      "metadata": {
        "id": "8jE1wJGvwM99"
      },
      "source": [
        "def sample_predict(sample_pred_text, pad):\n",
        "  encoded_sample_pred_text = tokenizer.texts_to_sequences(sample_pred_text)\n",
        "  print(encoded_sample_pred_text)\n",
        "  print(type(encoded_sample_pred_text))\n",
        "\n",
        "  if pad:\n",
        "    encoded_sample_pred_text = pad_to_size(encoded_sample_pred_text, SEQ_LEN)\n",
        "    \n",
        "  encoded_sample_pred_text = np.array(encoded_sample_pred_text)\n",
        "  encoded_sample_pred_text = encoded_sample_pred_text.astype(\"float32\")\n",
        "  predictions = model.predict(encoded_sample_pred_text)"
      ],
      "execution_count": 44,
      "outputs": []
    },
    {
      "cell_type": "code",
      "metadata": {
        "id": "HNiPl4Wwe8I6"
      },
      "source": [
        "new_review=[\"La fornitura di prestazioni e di assistenza nell'ambito dell'ingegneria gestionale a favore delle imprese sia in ambito pubblico che privato; il controllo e la programmazione delle attività; lo sviluppo e l'analisi di nuovi progetti e budget, e la conseguente analisi dei rischi finanziari e commerciali. Lo sviluppo di strutture manageriali ed implementazioni di business plan. La società potrà anche assumere, sia direttamente che indirettamente, interessenze e partecipazioni in altre società od imprese, così come aprire filiali e succursali, in Svizzera ed all'estero. La società potrà inoltre svolgere ogni altra operazione commerciale, finanziaria o di altro genere che sia utile a realizzare e promuovere il suo scopo sociale.\"]\n",
        "#new_review=new_review.lower#\n",
        "new_review=str(new_review)\n",
        "new_review = (new_review.replace(\"'\", \" \"))\n",
        "new_review = new_review.replace(\",\", \" \")\n",
        "new_review = new_review.replace(\".\", \" \")\n",
        "new_review = new_review.replace(\":\", \" \")\n",
        "new_review = new_review.replace(\";\", \" \")\n",
        "new_review = new_review.replace(\"`\", \" \")\n"
      ],
      "execution_count": 45,
      "outputs": []
    },
    {
      "cell_type": "code",
      "metadata": {
        "colab": {
          "base_uri": "https://localhost:8080/"
        },
        "id": "75mYX5Ccidct",
        "outputId": "d64629cd-7eb3-4ba6-a2d8-c71fea2df1b1"
      },
      "source": [
        "print(new_review)\n"
      ],
      "execution_count": 40,
      "outputs": [
        {
          "output_type": "stream",
          "text": [
            "[\"La fornitura di prestazioni e di assistenza nell ambito dell ingegneria gestionale a favore delle imprese sia in ambito pubblico che privato  il controllo e la programmazione delle attività  lo sviluppo e l analisi di nuovi progetti e budget  e la conseguente analisi dei rischi finanziari e commerciali  Lo sviluppo di strutture manageriali ed implementazioni di business plan  La società potrà anche assumere  sia direttamente che indirettamente  interessenze e partecipazioni in altre società od imprese  così come aprire filiali e succursali  in Svizzera ed all estero  La società potrà inoltre svolgere ogni altra operazione commerciale  finanziaria o di altro genere che sia utile a realizzare e promuovere il suo scopo sociale \"]\n"
          ],
          "name": "stdout"
        }
      ]
    },
    {
      "cell_type": "code",
      "metadata": {
        "id": "oaoppw5vwXEN",
        "colab": {
          "base_uri": "https://localhost:8080/",
          "height": 775
        },
        "outputId": "e69c1bca-cd70-4ae0-9548-fd0aa56696cb"
      },
      "source": [
        "new_review=[' fornitura  prestazioni   assistenza  ambito  ingegneria gestionale  favore  imprese sia  ambito pubblico  privato  controllo   programmazione  attività  sviluppo analisi  nuovi progetti  budget  conseguente analisi dei rischi finanziari  commerciali  sviluppo  strutture manageriali  implementazioni  business plan società potrà anche assumere sia direttamente  indirettamente interessenze  partecipazioni  altre società  imprese così come aprire filiali  succursali  Svizzera   estero  società potrà inoltre svolgere ogni altra operazione commerciale finanziaria  altro genere  sia utile  realizzare  promuovere  suo scopo sociale']\n",
        "\n",
        "\n",
        "encoded_sample_pred_text = tokenizer.texts_to_sequences(new_review)\n",
        "# Some models need padding, some don't - depends on the embedding layer.\n",
        "encoded_sample_pred_text = tf.keras.preprocessing.sequence.pad_sequences(encoded_sample_pred_text, maxlen=SEQ_LEN, padding=\"post\")\n",
        "predictions = model.predict(encoded_sample_pred_text)\n",
        "\n",
        "for n in reversed((np.argsort(predictions))[0]):\n",
        "    predicted_id = [n]\n",
        "    #print(\"Guess: %s \\n Probability: %f\" %(decode_label(predicted_id).replace('_', ' '), 100*predictions[0][predicted_id][0]) + '%')\n",
        "    print(\"Guess: %s \\n Probability: %f\" %(dict_nace[n-1], 100*predictions[0][predicted_id][0]) + '%')"
      ],
      "execution_count": 115,
      "outputs": [
        {
          "output_type": "stream",
          "text": [
            "Guess: M - Professional, scientific and technical activities \n",
            " Probability: 61.705440%\n",
            "Guess: Q - Human health and social work activities \n",
            " Probability: 16.427878%\n",
            "Guess: R - Arts, entertainment and recreation \n",
            " Probability: 7.281303%\n",
            "Guess: J - Information and communication \n",
            " Probability: 3.841067%\n",
            "Guess: P - Education \n",
            " Probability: 3.808062%\n",
            "Guess: C - Manufacturing \n",
            " Probability: 1.880310%\n",
            "Guess: K - Financial and insurance activities \n",
            " Probability: 1.375948%\n",
            "Guess: D - Electricity, gas, steam and air conditioning supply \n",
            " Probability: 1.367197%\n",
            "Guess: G - Wholesale and retail trade; repair of motor vehicles and motorcycles \n",
            " Probability: 0.889233%\n",
            "Guess: E - Water supply; sewerage, waste management and remediation activities \n",
            " Probability: 0.501839%\n",
            "Guess: I - Accommodation and food service activities \n",
            " Probability: 0.323623%\n",
            "Guess: H - Transportation and storage \n",
            " Probability: 0.198971%\n",
            "Guess: S - Other service activities \n",
            " Probability: 0.175011%\n",
            "Guess: A - Agriculture, forestry and fishing \n",
            " Probability: 0.112791%\n",
            "Guess: N - Administrative and support service activities \n",
            " Probability: 0.064017%\n",
            "Guess: L - Real estate activities \n",
            " Probability: 0.035503%\n",
            "Guess: F - Construction \n",
            " Probability: 0.011812%\n"
          ],
          "name": "stdout"
        },
        {
          "output_type": "error",
          "ename": "KeyError",
          "evalue": "ignored",
          "traceback": [
            "\u001b[0;31m---------------------------------------------------------------------------\u001b[0m",
            "\u001b[0;31mKeyError\u001b[0m                                  Traceback (most recent call last)",
            "\u001b[0;32m<ipython-input-115-bd6a90d73dd2>\u001b[0m in \u001b[0;36m<module>\u001b[0;34m()\u001b[0m\n\u001b[1;32m     10\u001b[0m     \u001b[0mpredicted_id\u001b[0m \u001b[0;34m=\u001b[0m \u001b[0;34m[\u001b[0m\u001b[0mn\u001b[0m\u001b[0;34m]\u001b[0m\u001b[0;34m\u001b[0m\u001b[0;34m\u001b[0m\u001b[0m\n\u001b[1;32m     11\u001b[0m     \u001b[0;31m#print(\"Guess: %s \\n Probability: %f\" %(decode_label(predicted_id).replace('_', ' '), 100*predictions[0][predicted_id][0]) + '%')\u001b[0m\u001b[0;34m\u001b[0m\u001b[0;34m\u001b[0m\u001b[0;34m\u001b[0m\u001b[0m\n\u001b[0;32m---> 12\u001b[0;31m     \u001b[0mprint\u001b[0m\u001b[0;34m(\u001b[0m\u001b[0;34m\"Guess: %s \\n Probability: %f\"\u001b[0m \u001b[0;34m%\u001b[0m\u001b[0;34m(\u001b[0m\u001b[0mdict_nace\u001b[0m\u001b[0;34m[\u001b[0m\u001b[0mn\u001b[0m\u001b[0;34m-\u001b[0m\u001b[0;36m1\u001b[0m\u001b[0;34m]\u001b[0m\u001b[0;34m,\u001b[0m \u001b[0;36m100\u001b[0m\u001b[0;34m*\u001b[0m\u001b[0mpredictions\u001b[0m\u001b[0;34m[\u001b[0m\u001b[0;36m0\u001b[0m\u001b[0;34m]\u001b[0m\u001b[0;34m[\u001b[0m\u001b[0mpredicted_id\u001b[0m\u001b[0;34m]\u001b[0m\u001b[0;34m[\u001b[0m\u001b[0;36m0\u001b[0m\u001b[0;34m]\u001b[0m\u001b[0;34m)\u001b[0m \u001b[0;34m+\u001b[0m \u001b[0;34m'%'\u001b[0m\u001b[0;34m)\u001b[0m\u001b[0;34m\u001b[0m\u001b[0;34m\u001b[0m\u001b[0m\n\u001b[0m",
            "\u001b[0;31mKeyError\u001b[0m: -1"
          ]
        }
      ]
    },
    {
      "cell_type": "markdown",
      "metadata": {
        "id": "-GnBUe4sAg_6"
      },
      "source": [
        "save model"
      ]
    },
    {
      "cell_type": "code",
      "metadata": {
        "colab": {
          "base_uri": "https://localhost:8080/"
        },
        "id": "_EQtV4KgA4SS",
        "outputId": "7c50b9f0-51d2-4b9c-fff6-dda5a44b3a44"
      },
      "source": [
        "from google.colab import drive\n",
        "drive.mount('/content/gdrive')"
      ],
      "execution_count": 15,
      "outputs": [
        {
          "output_type": "stream",
          "text": [
            "Mounted at /content/gdrive\n"
          ],
          "name": "stdout"
        }
      ]
    },
    {
      "cell_type": "code",
      "metadata": {
        "colab": {
          "base_uri": "https://localhost:8080/"
        },
        "id": "-3IzvtxkAgYr",
        "outputId": "a36ea7b5-2fce-4412-8bd6-71e41bdc476f"
      },
      "source": [
        "# Save the entire model as a SavedModel.\n",
        "!mkdir -p saved_model\n",
        "model.save('/content/gdrive/MyDrive') \n"
      ],
      "execution_count": 47,
      "outputs": [
        {
          "output_type": "stream",
          "text": [
            "INFO:tensorflow:Assets written to: /content/gdrive/MyDrive/assets\n"
          ],
          "name": "stdout"
        }
      ]
    },
    {
      "cell_type": "markdown",
      "metadata": {
        "id": "8ZSRvbEEXCOJ"
      },
      "source": [
        "Reload model"
      ]
    },
    {
      "cell_type": "code",
      "metadata": {
        "id": "gCCXgucVVAbK"
      },
      "source": [
        "new_model = tf.keras.models.load_model('/content/gdrive/MyDrive')\n",
        "\n",
        "# Check its architecture\n",
        "new_model.summary()"
      ],
      "execution_count": null,
      "outputs": []
    },
    {
      "cell_type": "markdown",
      "metadata": {
        "id": "Ul4Ftni5RmxH"
      },
      "source": [
        ""
      ]
    },
    {
      "cell_type": "code",
      "metadata": {
        "colab": {
          "base_uri": "https://localhost:8080/"
        },
        "id": "4I5B2tDbXxTT",
        "outputId": "824c5b7b-9010-4858-b4e9-41f5da81d97b"
      },
      "source": [
        "dfdata['Trade_description'] "
      ],
      "execution_count": 50,
      "outputs": [
        {
          "output_type": "execute_result",
          "data": {
            "text/plain": [
              "0        produzione  trasporto   commercio  energia el...\n",
              "1       das unternehmen wurde  1959 gegruendet. es ist...\n",
              "2       mettere  disposizione  propri soci   popolazio...\n",
              "3        esercizio  ferrovia  scartamento ridotto  loc...\n",
              "4       promuovere  diffondere  sentimenti patriottici...\n",
              "                              ...                        \n",
              "2273     esercizio   impresa generale (general contrac...\n",
              "2274     acquisto  vendita  consulenza  riparazione  i...\n",
              "2275     gestione   spazio creativo  ambito artistico ...\n",
              "2276     consulenza   realizzazione  lavori  costruzio...\n",
              "2277             commercio    oggetti  servono  scrivere.\n",
              "Name: Trade_description, Length: 2278, dtype: object"
            ]
          },
          "metadata": {
            "tags": []
          },
          "execution_count": 50
        }
      ]
    },
    {
      "cell_type": "code",
      "metadata": {
        "colab": {
          "base_uri": "https://localhost:8080/",
          "height": 775
        },
        "id": "THPiqtkgddJN",
        "outputId": "ccd58673-f416-43ef-bf8b-528592cd308a"
      },
      "source": [
        "new_review=['  insegnamento lingua inglese ']\n",
        "\n",
        "\n",
        "encoded_sample_pred_text = tokenizer.texts_to_sequences(new_review)\n",
        "# Some models need padding, some don't - depends on the embedding layer.\n",
        "encoded_sample_pred_text = tf.keras.preprocessing.sequence.pad_sequences(encoded_sample_pred_text, maxlen=SEQ_LEN, padding=\"post\")\n",
        "predictions = model.predict(encoded_sample_pred_text)\n",
        "\n",
        "for n in reversed((np.argsort(predictions))[0]):\n",
        "    predicted_id = [n]\n",
        "    #print(\"Guess: %s \\n Probability: %f\" %(decode_label(predicted_id).replace('_', ' '), 100*predictions[0][predicted_id][0]) + '%')\n",
        "    print(\"Guess: %s \\n Probability: %f\" %(dict_nace[n-1], 100*predictions[0][predicted_id][0]) + '%')"
      ],
      "execution_count": 137,
      "outputs": [
        {
          "output_type": "stream",
          "text": [
            "Guess: P - Education \n",
            " Probability: 40.388939%\n",
            "Guess: Q - Human health and social work activities \n",
            " Probability: 15.198290%\n",
            "Guess: C - Manufacturing \n",
            " Probability: 8.870719%\n",
            "Guess: S - Other service activities \n",
            " Probability: 7.392588%\n",
            "Guess: I - Accommodation and food service activities \n",
            " Probability: 5.424855%\n",
            "Guess: R - Arts, entertainment and recreation \n",
            " Probability: 4.661977%\n",
            "Guess: N - Administrative and support service activities \n",
            " Probability: 4.123317%\n",
            "Guess: D - Electricity, gas, steam and air conditioning supply \n",
            " Probability: 2.921672%\n",
            "Guess: E - Water supply; sewerage, waste management and remediation activities \n",
            " Probability: 2.587244%\n",
            "Guess: G - Wholesale and retail trade; repair of motor vehicles and motorcycles \n",
            " Probability: 1.854151%\n",
            "Guess: F - Construction \n",
            " Probability: 1.705949%\n",
            "Guess: M - Professional, scientific and technical activities \n",
            " Probability: 1.312018%\n",
            "Guess: A - Agriculture, forestry and fishing \n",
            " Probability: 1.279221%\n",
            "Guess: J - Information and communication \n",
            " Probability: 0.697362%\n",
            "Guess: L - Real estate activities \n",
            " Probability: 0.641377%\n",
            "Guess: H - Transportation and storage \n",
            " Probability: 0.519372%\n",
            "Guess: K - Financial and insurance activities \n",
            " Probability: 0.418753%\n"
          ],
          "name": "stdout"
        },
        {
          "output_type": "error",
          "ename": "KeyError",
          "evalue": "ignored",
          "traceback": [
            "\u001b[0;31m---------------------------------------------------------------------------\u001b[0m",
            "\u001b[0;31mKeyError\u001b[0m                                  Traceback (most recent call last)",
            "\u001b[0;32m<ipython-input-137-58a86ac1ad38>\u001b[0m in \u001b[0;36m<module>\u001b[0;34m()\u001b[0m\n\u001b[1;32m     10\u001b[0m     \u001b[0mpredicted_id\u001b[0m \u001b[0;34m=\u001b[0m \u001b[0;34m[\u001b[0m\u001b[0mn\u001b[0m\u001b[0;34m]\u001b[0m\u001b[0;34m\u001b[0m\u001b[0;34m\u001b[0m\u001b[0m\n\u001b[1;32m     11\u001b[0m     \u001b[0;31m#print(\"Guess: %s \\n Probability: %f\" %(decode_label(predicted_id).replace('_', ' '), 100*predictions[0][predicted_id][0]) + '%')\u001b[0m\u001b[0;34m\u001b[0m\u001b[0;34m\u001b[0m\u001b[0;34m\u001b[0m\u001b[0m\n\u001b[0;32m---> 12\u001b[0;31m     \u001b[0mprint\u001b[0m\u001b[0;34m(\u001b[0m\u001b[0;34m\"Guess: %s \\n Probability: %f\"\u001b[0m \u001b[0;34m%\u001b[0m\u001b[0;34m(\u001b[0m\u001b[0mdict_nace\u001b[0m\u001b[0;34m[\u001b[0m\u001b[0mn\u001b[0m\u001b[0;34m-\u001b[0m\u001b[0;36m1\u001b[0m\u001b[0;34m]\u001b[0m\u001b[0;34m,\u001b[0m \u001b[0;36m100\u001b[0m\u001b[0;34m*\u001b[0m\u001b[0mpredictions\u001b[0m\u001b[0;34m[\u001b[0m\u001b[0;36m0\u001b[0m\u001b[0;34m]\u001b[0m\u001b[0;34m[\u001b[0m\u001b[0mpredicted_id\u001b[0m\u001b[0;34m]\u001b[0m\u001b[0;34m[\u001b[0m\u001b[0;36m0\u001b[0m\u001b[0;34m]\u001b[0m\u001b[0;34m)\u001b[0m \u001b[0;34m+\u001b[0m \u001b[0;34m'%'\u001b[0m\u001b[0;34m)\u001b[0m\u001b[0;34m\u001b[0m\u001b[0;34m\u001b[0m\u001b[0m\n\u001b[0m",
            "\u001b[0;31mKeyError\u001b[0m: -1"
          ]
        }
      ]
    },
    {
      "cell_type": "code",
      "metadata": {
        "id": "fukWLJ5QBORv"
      },
      "source": [
        "new_review=[' fornitura  prestazioni   assistenza  ambito  ingegneria gestionale  favore  imprese sia  ambito pubblico  privato  controllo   programmazione  attività  sviluppo analisi  nuovi progetti  budget  conseguente analisi dei rischi finanziari  commerciali  sviluppo  strutture manageriali  implementazioni  business plan società potrà anche assumere sia direttamente  indirettamente interessenze  partecipazioni  altre società  imprese così come aprire filiali  succursali  Svizzera   estero  società potrà inoltre svolgere ogni altra operazione commerciale finanziaria  altro genere  sia utile  realizzare  promuovere  suo scopo sociale']\n",
        "\n",
        "\n",
        "encoded_sample_pred_text = tokenizer.texts_to_sequences(dfdata['Trade_description'] )\n",
        "# Some models need padding, some don't - depends on the embedding layer.\n",
        "encoded_sample_pred_text = tf.keras.preprocessing.sequence.pad_sequences(encoded_sample_pred_text, maxlen=SEQ_LEN, padding=\"post\")\n",
        "predictions = new_model.predict(encoded_sample_pred_text)"
      ],
      "execution_count": 52,
      "outputs": []
    },
    {
      "cell_type": "code",
      "metadata": {
        "colab": {
          "base_uri": "https://localhost:8080/"
        },
        "id": "dnKfm200YAOV",
        "outputId": "437febb1-9e08-45f3-8440-4a5b4fc17060"
      },
      "source": [
        "predictions[1]*100\n"
      ],
      "execution_count": 110,
      "outputs": [
        {
          "output_type": "execute_result",
          "data": {
            "text/plain": [
              "array([7.96202471e-07, 2.36359220e-02, 9.97443542e+01, 3.91391478e-02,\n",
              "       2.58244970e-03, 1.78130134e-03, 8.86076188e-04, 5.29664233e-02,\n",
              "       6.93995098e-04, 3.83372162e-03, 2.45786650e-04, 1.26525555e-02,\n",
              "       1.78660695e-02, 4.62059341e-02, 5.96674066e-03, 1.70168653e-02,\n",
              "       3.49634746e-03, 2.66717486e-02], dtype=float32)"
            ]
          },
          "metadata": {
            "tags": []
          },
          "execution_count": 110
        }
      ]
    },
    {
      "cell_type": "code",
      "metadata": {
        "colab": {
          "base_uri": "https://localhost:8080/"
        },
        "id": "_WswFIzZZ7Fs",
        "outputId": "246a41ec-8c70-4fd3-b8f7-4eb36ef3802b"
      },
      "source": [
        "predictions[1][17]*100"
      ],
      "execution_count": 96,
      "outputs": [
        {
          "output_type": "execute_result",
          "data": {
            "text/plain": [
              "0.026671748491935432"
            ]
          },
          "metadata": {
            "tags": []
          },
          "execution_count": 96
        }
      ]
    },
    {
      "cell_type": "code",
      "metadata": {
        "colab": {
          "base_uri": "https://localhost:8080/",
          "height": 35
        },
        "id": "Zr095YElYldi",
        "outputId": "db6b6c69-4442-40fa-e599-2f492ba50362"
      },
      "source": [
        "dict_nace[16]"
      ],
      "execution_count": 97,
      "outputs": [
        {
          "output_type": "execute_result",
          "data": {
            "application/vnd.google.colaboratory.intrinsic+json": {
              "type": "string"
            },
            "text/plain": [
              "'P - Education'"
            ]
          },
          "metadata": {
            "tags": []
          },
          "execution_count": 97
        }
      ]
    },
    {
      "cell_type": "markdown",
      "metadata": {
        "id": "zikOCxb9bswK"
      },
      "source": [
        "Find the class with the most liekly value"
      ]
    },
    {
      "cell_type": "code",
      "metadata": {
        "colab": {
          "base_uri": "https://localhost:8080/",
          "height": 35
        },
        "id": "L5OmV6xmbzY6",
        "outputId": "0873dbaf-7ba3-4085-cb56-9c57c7657eb0"
      },
      "source": [
        "dict_nace[np.argmax(predictions[1])-1]"
      ],
      "execution_count": 111,
      "outputs": [
        {
          "output_type": "execute_result",
          "data": {
            "application/vnd.google.colaboratory.intrinsic+json": {
              "type": "string"
            },
            "text/plain": [
              "'C - Manufacturing'"
            ]
          },
          "metadata": {
            "tags": []
          },
          "execution_count": 111
        }
      ]
    },
    {
      "cell_type": "code",
      "metadata": {
        "colab": {
          "base_uri": "https://localhost:8080/",
          "height": 163
        },
        "id": "sf6YKc39cv9T",
        "outputId": "cf43ca69-5dca-4ac5-e9e9-1a403d221df1"
      },
      "source": [
        "dict_nace[np.argmax(predictions)-1]"
      ],
      "execution_count": 107,
      "outputs": [
        {
          "output_type": "error",
          "ename": "KeyError",
          "evalue": "ignored",
          "traceback": [
            "\u001b[0;31m---------------------------------------------------------------------------\u001b[0m",
            "\u001b[0;31mKeyError\u001b[0m                                  Traceback (most recent call last)",
            "\u001b[0;32m<ipython-input-107-b3ca6bc6183c>\u001b[0m in \u001b[0;36m<module>\u001b[0;34m()\u001b[0m\n\u001b[0;32m----> 1\u001b[0;31m \u001b[0mdict_nace\u001b[0m\u001b[0;34m[\u001b[0m\u001b[0mnp\u001b[0m\u001b[0;34m.\u001b[0m\u001b[0margmax\u001b[0m\u001b[0;34m(\u001b[0m\u001b[0mpredictions\u001b[0m\u001b[0;34m)\u001b[0m\u001b[0;34m-\u001b[0m\u001b[0;36m1\u001b[0m\u001b[0;34m]\u001b[0m\u001b[0;34m\u001b[0m\u001b[0;34m\u001b[0m\u001b[0m\n\u001b[0m",
            "\u001b[0;31mKeyError\u001b[0m: 7172"
          ]
        }
      ]
    },
    {
      "cell_type": "code",
      "metadata": {
        "colab": {
          "base_uri": "https://localhost:8080/"
        },
        "id": "KBtj6ESRZe_j",
        "outputId": "abcfd29d-54df-494f-f366-6c43715a5ed0"
      },
      "source": [
        "np.argsort(predictions)[1]"
      ],
      "execution_count": 78,
      "outputs": [
        {
          "output_type": "execute_result",
          "data": {
            "text/plain": [
              "array([ 0, 10,  8,  6,  5,  4, 16,  9, 14, 11, 15, 12,  1, 17,  3, 13,  7,\n",
              "        2])"
            ]
          },
          "metadata": {
            "tags": []
          },
          "execution_count": 78
        }
      ]
    },
    {
      "cell_type": "code",
      "metadata": {
        "colab": {
          "base_uri": "https://localhost:8080/",
          "height": 775
        },
        "id": "UCb0arAZX9Ky",
        "outputId": "15d3a385-fcfb-4031-8f3e-cb8a638e6c75"
      },
      "source": [
        "\n",
        "for n in reversed((np.argsort(predictions))[1]):\n",
        "    predicted_id = [n]\n",
        "    #print(\"Guess: %s \\n Probability: %f\" %(decode_label(predicted_id).replace('_', ' '), 100*predictions[0][predicted_id][0]) + '%')\n",
        "    print(\"Guess: %s \\n Probability: %f\" %(dict_nace[n-1], 100*predictions[1][predicted_id][0]) + '%')"
      ],
      "execution_count": 99,
      "outputs": [
        {
          "output_type": "stream",
          "text": [
            "Guess: C - Manufacturing \n",
            " Probability: 99.744356%\n",
            "Guess: M - Professional, scientific and technical activities \n",
            " Probability: 0.052966%\n",
            "Guess: F - Construction \n",
            " Probability: 0.046206%\n",
            "Guess: G - Wholesale and retail trade; repair of motor vehicles and motorcycles \n",
            " Probability: 0.039139%\n",
            "Guess: P - Education \n",
            " Probability: 0.026672%\n",
            "Guess: D - Electricity, gas, steam and air conditioning supply \n",
            " Probability: 0.023636%\n",
            "Guess: E - Water supply; sewerage, waste management and remediation activities \n",
            " Probability: 0.017866%\n",
            "Guess: A - Agriculture, forestry and fishing \n",
            " Probability: 0.017017%\n",
            "Guess: Q - Human health and social work activities \n",
            " Probability: 0.012653%\n",
            "Guess: N - Administrative and support service activities \n",
            " Probability: 0.005967%\n",
            "Guess: K - Financial and insurance activities \n",
            " Probability: 0.003834%\n",
            "Guess: J - Information and communication \n",
            " Probability: 0.003496%\n",
            "Guess: H - Transportation and storage \n",
            " Probability: 0.002582%\n",
            "Guess: R - Arts, entertainment and recreation \n",
            " Probability: 0.001781%\n",
            "Guess: L - Real estate activities \n",
            " Probability: 0.000886%\n",
            "Guess: I - Accommodation and food service activities \n",
            " Probability: 0.000694%\n",
            "Guess: S - Other service activities \n",
            " Probability: 0.000246%\n"
          ],
          "name": "stdout"
        },
        {
          "output_type": "error",
          "ename": "KeyError",
          "evalue": "ignored",
          "traceback": [
            "\u001b[0;31m---------------------------------------------------------------------------\u001b[0m",
            "\u001b[0;31mKeyError\u001b[0m                                  Traceback (most recent call last)",
            "\u001b[0;32m<ipython-input-99-9ec5cfe1b2cd>\u001b[0m in \u001b[0;36m<module>\u001b[0;34m()\u001b[0m\n\u001b[1;32m      3\u001b[0m     \u001b[0mpredicted_id\u001b[0m \u001b[0;34m=\u001b[0m \u001b[0;34m[\u001b[0m\u001b[0mn\u001b[0m\u001b[0;34m]\u001b[0m\u001b[0;34m\u001b[0m\u001b[0;34m\u001b[0m\u001b[0m\n\u001b[1;32m      4\u001b[0m     \u001b[0;31m#print(\"Guess: %s \\n Probability: %f\" %(decode_label(predicted_id).replace('_', ' '), 100*predictions[0][predicted_id][0]) + '%')\u001b[0m\u001b[0;34m\u001b[0m\u001b[0;34m\u001b[0m\u001b[0;34m\u001b[0m\u001b[0m\n\u001b[0;32m----> 5\u001b[0;31m     \u001b[0mprint\u001b[0m\u001b[0;34m(\u001b[0m\u001b[0;34m\"Guess: %s \\n Probability: %f\"\u001b[0m \u001b[0;34m%\u001b[0m\u001b[0;34m(\u001b[0m\u001b[0mdict_nace\u001b[0m\u001b[0;34m[\u001b[0m\u001b[0mn\u001b[0m\u001b[0;34m-\u001b[0m\u001b[0;36m1\u001b[0m\u001b[0;34m]\u001b[0m\u001b[0;34m,\u001b[0m \u001b[0;36m100\u001b[0m\u001b[0;34m*\u001b[0m\u001b[0mpredictions\u001b[0m\u001b[0;34m[\u001b[0m\u001b[0;36m1\u001b[0m\u001b[0;34m]\u001b[0m\u001b[0;34m[\u001b[0m\u001b[0mpredicted_id\u001b[0m\u001b[0;34m]\u001b[0m\u001b[0;34m[\u001b[0m\u001b[0;36m0\u001b[0m\u001b[0;34m]\u001b[0m\u001b[0;34m)\u001b[0m \u001b[0;34m+\u001b[0m \u001b[0;34m'%'\u001b[0m\u001b[0;34m)\u001b[0m\u001b[0;34m\u001b[0m\u001b[0;34m\u001b[0m\u001b[0m\n\u001b[0m",
            "\u001b[0;31mKeyError\u001b[0m: -1"
          ]
        }
      ]
    },
    {
      "cell_type": "code",
      "metadata": {
        "colab": {
          "base_uri": "https://localhost:8080/",
          "height": 775
        },
        "id": "w40fHDOp6N_G",
        "outputId": "953a51f3-3198-4ed1-ff15-22f4b4a91c0a"
      },
      "source": [
        "for n in reversed((np.argsort(predictions))[0]):\n",
        "    predicted_id = [n]\n",
        "    #print(\"Guess: %s \\n Probability: %f\" %(decode_label(predicted_id).replace('_', ' '), 100*predictions[0][predicted_id][0]) + '%')\n",
        "    print(\"Guess: %s \\n Probability: %f\" %(dict_nace[n-1], 100*predictions[0][predicted_id][0]) + '%')"
      ],
      "execution_count": 44,
      "outputs": [
        {
          "output_type": "stream",
          "text": [
            "Guess: M - Professional, scientific and technical activities \n",
            " Probability: 61.084569%\n",
            "Guess: R - Arts, entertainment and recreation \n",
            " Probability: 9.414596%\n",
            "Guess: P - Education \n",
            " Probability: 7.670005%\n",
            "Guess: K - Financial and insurance activities \n",
            " Probability: 5.560958%\n",
            "Guess: D - Electricity, gas, steam and air conditioning supply \n",
            " Probability: 4.819687%\n",
            "Guess: Q - Human health and social work activities \n",
            " Probability: 3.867610%\n",
            "Guess: C - Manufacturing \n",
            " Probability: 2.629092%\n",
            "Guess: J - Information and communication \n",
            " Probability: 2.084000%\n",
            "Guess: E - Water supply; sewerage, waste management and remediation activities \n",
            " Probability: 1.010452%\n",
            "Guess: A - Agriculture, forestry and fishing \n",
            " Probability: 0.487046%\n",
            "Guess: S - Other service activities \n",
            " Probability: 0.458745%\n",
            "Guess: I - Accommodation and food service activities \n",
            " Probability: 0.379411%\n",
            "Guess: G - Wholesale and retail trade; repair of motor vehicles and motorcycles \n",
            " Probability: 0.228005%\n",
            "Guess: H - Transportation and storage \n",
            " Probability: 0.123895%\n",
            "Guess: N - Administrative and support service activities \n",
            " Probability: 0.097031%\n",
            "Guess: L - Real estate activities \n",
            " Probability: 0.054476%\n",
            "Guess: F - Construction \n",
            " Probability: 0.030420%\n"
          ],
          "name": "stdout"
        },
        {
          "output_type": "error",
          "ename": "KeyError",
          "evalue": "ignored",
          "traceback": [
            "\u001b[0;31m---------------------------------------------------------------------------\u001b[0m",
            "\u001b[0;31mKeyError\u001b[0m                                  Traceback (most recent call last)",
            "\u001b[0;32m<ipython-input-44-8457cf696d82>\u001b[0m in \u001b[0;36m<module>\u001b[0;34m()\u001b[0m\n\u001b[1;32m      2\u001b[0m     \u001b[0mpredicted_id\u001b[0m \u001b[0;34m=\u001b[0m \u001b[0;34m[\u001b[0m\u001b[0mn\u001b[0m\u001b[0;34m]\u001b[0m\u001b[0;34m\u001b[0m\u001b[0;34m\u001b[0m\u001b[0m\n\u001b[1;32m      3\u001b[0m     \u001b[0;31m#print(\"Guess: %s \\n Probability: %f\" %(decode_label(predicted_id).replace('_', ' '), 100*predictions[0][predicted_id][0]) + '%')\u001b[0m\u001b[0;34m\u001b[0m\u001b[0;34m\u001b[0m\u001b[0;34m\u001b[0m\u001b[0m\n\u001b[0;32m----> 4\u001b[0;31m     \u001b[0mprint\u001b[0m\u001b[0;34m(\u001b[0m\u001b[0;34m\"Guess: %s \\n Probability: %f\"\u001b[0m \u001b[0;34m%\u001b[0m\u001b[0;34m(\u001b[0m\u001b[0mdict_nace\u001b[0m\u001b[0;34m[\u001b[0m\u001b[0mn\u001b[0m\u001b[0;34m-\u001b[0m\u001b[0;36m1\u001b[0m\u001b[0;34m]\u001b[0m\u001b[0;34m,\u001b[0m \u001b[0;36m100\u001b[0m\u001b[0;34m*\u001b[0m\u001b[0mpredictions\u001b[0m\u001b[0;34m[\u001b[0m\u001b[0;36m0\u001b[0m\u001b[0;34m]\u001b[0m\u001b[0;34m[\u001b[0m\u001b[0mpredicted_id\u001b[0m\u001b[0;34m]\u001b[0m\u001b[0;34m[\u001b[0m\u001b[0;36m0\u001b[0m\u001b[0;34m]\u001b[0m\u001b[0;34m)\u001b[0m \u001b[0;34m+\u001b[0m \u001b[0;34m'%'\u001b[0m\u001b[0;34m)\u001b[0m\u001b[0;34m\u001b[0m\u001b[0;34m\u001b[0m\u001b[0m\n\u001b[0m",
            "\u001b[0;31mKeyError\u001b[0m: -1"
          ]
        }
      ]
    }
  ]
}
